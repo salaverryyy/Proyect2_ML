{
 "cells": [
  {
   "cell_type": "code",
   "execution_count": null,
   "metadata": {
    "vscode": {
     "languageId": "plaintext"
    }
   },
   "outputs": [],
   "source": [
    "import numpy as np\n",
    "import pandas as pd\n",
    "import matplotlib.pyplot as plt\n",
    "from sklearn.cluster import KMeans\n",
    "from sklearn.metrics import silhouette_score\n",
    "\n",
    "# Cargar las características\n",
    "features_train = np.load(\"features_np/features_train.npz\")\n",
    "X_train = features_train['features']  # Matriz de características\n",
    "\n",
    "# Definir el número de clusters\n",
    "n_clusters = 5\n",
    "\n",
    "# Aplicar K-Means\n",
    "kmeans = KMeans(n_clusters=n_clusters, random_state=42, n_init=10)\n",
    "kmeans.fit(X_train)\n",
    "labels = kmeans.labels_\n",
    "\n",
    "# Evaluar con Silhouette Score\n",
    "silhouette = silhouette_score(X_train, labels)\n",
    "print(f\"Silhouette Score: {silhouette:.4f}\")\n",
    "\n",
    "# Guardar resultados en un CSV\n",
    "results_df = pd.DataFrame({\n",
    "    'id': features_train['ids'],\n",
    "    'cluster': labels\n",
    "})\n",
    "results_df.to_csv(\"results/clusters_kmeans.csv\", index=False)\n",
    "\n",
    "print(\"Clusters guardados en results/clusters_kmeans.csv\")\n"
   ]
  }
 ],
 "metadata": {
  "language_info": {
   "name": "python"
  }
 },
 "nbformat": 4,
 "nbformat_minor": 2
}
